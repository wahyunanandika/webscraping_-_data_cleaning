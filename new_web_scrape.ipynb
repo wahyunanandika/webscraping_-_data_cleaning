{
 "cells": [
  {
   "cell_type": "code",
   "execution_count": 10,
   "metadata": {},
   "outputs": [],
   "source": [
    "import requests\n",
    "from bs4 import BeautifulSoup\n",
    "import pandas as pd\n",
    "import time\n",
    "from selenium import webdriver\n",
    "from selenium.webdriver.chrome.service import Service\n",
    "from selenium.webdriver.chrome.options import Options\n",
    "years = list(range(2025,2026))"
   ]
  },
  {
   "cell_type": "markdown",
   "metadata": {},
   "source": [
    "i need selenium web driver in order to properly saved the scandanavian names, if im not using selenium the names like luka doncic,it will interpret wrong by bsoup or requests"
   ]
  },
  {
   "cell_type": "markdown",
   "metadata": {},
   "source": [
    "-------------------------------------\n",
    "## Webscraping The MVP candidates per season"
   ]
  },
  {
   "cell_type": "code",
   "execution_count": 7,
   "metadata": {},
   "outputs": [
    {
     "name": "stderr",
     "output_type": "stream",
     "text": [
      "C:\\Users\\Wahyunan\\AppData\\Local\\Temp\\ipykernel_15184\\2325653463.py:22: FutureWarning: Passing literal html to 'read_html' is deprecated and will be removed in a future version. To read from a literal string, wrap it in a 'StringIO' object.\n",
      "  mvp = pd.read_html(str(mvp_table))[0]\n",
      "C:\\Users\\Wahyunan\\AppData\\Local\\Temp\\ipykernel_15184\\2325653463.py:22: FutureWarning: Passing literal html to 'read_html' is deprecated and will be removed in a future version. To read from a literal string, wrap it in a 'StringIO' object.\n",
      "  mvp = pd.read_html(str(mvp_table))[0]\n"
     ]
    }
   ],
   "source": [
    "mvp_url = 'https://www.basketball-reference.com/awards/awards_{}.html'\n",
    "\n",
    "service = Service(r\"D:\\pacmann_AIML\\ml_process\\MVP_Finalist_NBA\\chromedriver.exe\")\n",
    "driver = webdriver.Chrome(service=service)\n",
    "\n",
    "dfs = []\n",
    "for year in years:\n",
    "    url = mvp_url.format(year)\n",
    "    driver.get(url)\n",
    "    time.sleep(3)\n",
    "    \n",
    "    driver.execute_script(\"window.scrollTo(1,100000)\")# i need to scroll down,if not it will only saved the first table\n",
    "    soup = BeautifulSoup(driver.page_source, 'html.parser')\n",
    "\n",
    "    over_header = soup.find('tr', class_='over_header')\n",
    "    if over_header:\n",
    "        over_header.decompose() # delete the overheader if not it will saved to data\n",
    "    \n",
    "    mvp_table = soup.find(id='mvp')\n",
    "\n",
    "    if mvp_table:\n",
    "        mvp = pd.read_html(str(mvp_table))[0]\n",
    "        mvp['year'] = year\n",
    "        dfs.append(mvp)\n",
    "\n",
    "    time.sleep(3)\n",
    "\n",
    "driver.quit()\n"
   ]
  },
  {
   "cell_type": "markdown",
   "metadata": {},
   "source": [
    "check the length of data"
   ]
  },
  {
   "cell_type": "code",
   "execution_count": 8,
   "metadata": {},
   "outputs": [
    {
     "data": {
      "text/plain": [
       "2"
      ]
     },
     "execution_count": 8,
     "metadata": {},
     "output_type": "execute_result"
    }
   ],
   "source": [
    "len(dfs)"
   ]
  },
  {
   "cell_type": "markdown",
   "metadata": {},
   "source": [
    "concat all of year into one variables"
   ]
  },
  {
   "cell_type": "code",
   "execution_count": 9,
   "metadata": {},
   "outputs": [],
   "source": [
    "mvps = pd.concat(dfs, ignore_index=True)"
   ]
  },
  {
   "cell_type": "code",
   "execution_count": null,
   "metadata": {},
   "outputs": [],
   "source": []
  },
  {
   "cell_type": "markdown",
   "metadata": {},
   "source": [
    "save to csv"
   ]
  },
  {
   "cell_type": "code",
   "execution_count": null,
   "metadata": {},
   "outputs": [],
   "source": [
    "mvps.to_csv(\"new_mvps_ws.csv\")"
   ]
  },
  {
   "cell_type": "markdown",
   "metadata": {},
   "source": [
    "------\n",
    "## Webscraping the player stat per season"
   ]
  },
  {
   "cell_type": "code",
   "execution_count": 148,
   "metadata": {},
   "outputs": [
    {
     "name": "stderr",
     "output_type": "stream",
     "text": [
      "C:\\Users\\Wahyunan\\AppData\\Local\\Temp\\ipykernel_16044\\49863677.py:14: FutureWarning: Passing literal html to 'read_html' is deprecated and will be removed in a future version. To read from a literal string, wrap it in a 'StringIO' object.\n",
      "  player = pd.read_html(str(player_table))[0]\n",
      "C:\\Users\\Wahyunan\\AppData\\Local\\Temp\\ipykernel_16044\\49863677.py:14: FutureWarning: Passing literal html to 'read_html' is deprecated and will be removed in a future version. To read from a literal string, wrap it in a 'StringIO' object.\n",
      "  player = pd.read_html(str(player_table))[0]\n"
     ]
    }
   ],
   "source": [
    "\n",
    "player_url = 'https://www.basketball-reference.com/leagues/NBA_{}_per_game.html'\n",
    "\n",
    "dataframes_player = []\n",
    "for year in years:\n",
    "    service = Service(r\"D:\\pacmann_AIML\\ml_process\\MVP_Finalist_NBA\\chromedriver.exe\")\n",
    "    driver = webdriver.Chrome(service=service)\n",
    "    url = player_url.format(year)\n",
    "    driver.get(url)\n",
    "    driver.execute_script(\"window.scrollTo(1,100000)\")# i need to scroll down,if not it will only saved the first table\n",
    "    soup = BeautifulSoup(driver.page_source, 'html.parser')\n",
    "    \n",
    "    player_table = soup.find(id='per_game_stats')\n",
    "    if player_table:\n",
    "        player = pd.read_html(str(player_table))[0]\n",
    "        \n",
    "        player['year'] = year\n",
    "        # since the max coloumn was 24, i need to exclude the next title coloumn not to saved by webdriver\n",
    "        player = player[(player['Player'] != 'Player') & ~player['Player'].str.contains('League', na=False, case=False)]\n",
    "        \n",
    "        dataframes_player.append(player)\n",
    "    \n",
    "    time.sleep(3)\n",
    "    driver.quit()"
   ]
  },
  {
   "cell_type": "code",
   "execution_count": 149,
   "metadata": {},
   "outputs": [
    {
     "data": {
      "text/plain": [
       "2"
      ]
     },
     "execution_count": 149,
     "metadata": {},
     "output_type": "execute_result"
    }
   ],
   "source": [
    "len(dataframes_player)"
   ]
  },
  {
   "cell_type": "code",
   "execution_count": 150,
   "metadata": {},
   "outputs": [],
   "source": [
    "player_df = pd.concat(dataframes_player, ignore_index=True)"
   ]
  },
  {
   "cell_type": "code",
   "execution_count": 151,
   "metadata": {},
   "outputs": [],
   "source": [
    "player_df.to_csv('player_1991_2024.csv', index=False)"
   ]
  },
  {
   "cell_type": "markdown",
   "metadata": {},
   "source": [
    "---------------------\n",
    "## Webscraping the player advanced stats per season"
   ]
  },
  {
   "cell_type": "code",
   "execution_count": 152,
   "metadata": {},
   "outputs": [
    {
     "name": "stderr",
     "output_type": "stream",
     "text": [
      "C:\\Users\\Wahyunan\\AppData\\Local\\Temp\\ipykernel_16044\\1073913308.py:14: FutureWarning: Passing literal html to 'read_html' is deprecated and will be removed in a future version. To read from a literal string, wrap it in a 'StringIO' object.\n",
      "  player = pd.read_html(str(player_table))[0]\n",
      "C:\\Users\\Wahyunan\\AppData\\Local\\Temp\\ipykernel_16044\\1073913308.py:14: FutureWarning: Passing literal html to 'read_html' is deprecated and will be removed in a future version. To read from a literal string, wrap it in a 'StringIO' object.\n",
      "  player = pd.read_html(str(player_table))[0]\n"
     ]
    }
   ],
   "source": [
    "players_url = 'https://www.basketball-reference.com/leagues/NBA_{}_advanced.html'\n",
    "\n",
    "dataframes = []\n",
    "for year in years:\n",
    "    service = Service(r\"D:\\pacmann_AIML\\ml_process\\MVP_Finalist_NBA\\chromedriver.exe\")\n",
    "    driver = webdriver.Chrome(service=service)\n",
    "    url = players_url.format(year)\n",
    "    driver.get(url)\n",
    "    driver.execute_script(\"window.scrollTo(1,100000)\") # i need to scroll down,if not it will only saved the first table\n",
    "    soup = BeautifulSoup(driver.page_source, 'html.parser')\n",
    "    \n",
    "    player_table = soup.find(id='advanced')\n",
    "    if player_table:\n",
    "        player = pd.read_html(str(player_table))[0]\n",
    "        \n",
    "        player['year'] = year\n",
    "        \n",
    "        # since the max coloumn was 24, i need to exclude the next title coloumn not to saved by webdriver\n",
    "        player = player[(player['Player'] != 'Player') & ~player['Player'].str.contains('League', na=False, case=False)]\n",
    "        dataframes.append(player)\n",
    "    \n",
    "    time.sleep(3)\n",
    "    driver.quit()\n"
   ]
  },
  {
   "cell_type": "code",
   "execution_count": 153,
   "metadata": {},
   "outputs": [
    {
     "data": {
      "text/plain": [
       "2"
      ]
     },
     "execution_count": 153,
     "metadata": {},
     "output_type": "execute_result"
    }
   ],
   "source": [
    "len(dataframes)"
   ]
  },
  {
   "cell_type": "code",
   "execution_count": 154,
   "metadata": {},
   "outputs": [],
   "source": [
    "final_df = pd.concat(dataframes, ignore_index=True)"
   ]
  },
  {
   "cell_type": "code",
   "execution_count": 155,
   "metadata": {},
   "outputs": [
    {
     "data": {
      "text/plain": [
       "(1414, 30)"
      ]
     },
     "execution_count": 155,
     "metadata": {},
     "output_type": "execute_result"
    }
   ],
   "source": [
    "final_df.shape"
   ]
  },
  {
   "cell_type": "code",
   "execution_count": 156,
   "metadata": {},
   "outputs": [],
   "source": [
    "final_df.to_csv('player_stats_1991_2024.csv', index=False)"
   ]
  },
  {
   "cell_type": "markdown",
   "metadata": {},
   "source": [
    "----------------\n",
    "## Webscraping the team stats"
   ]
  },
  {
   "cell_type": "code",
   "execution_count": 2,
   "metadata": {},
   "outputs": [
    {
     "name": "stderr",
     "output_type": "stream",
     "text": [
      "C:\\Users\\Wahyunan\\AppData\\Local\\Temp\\ipykernel_15184\\640507418.py:18: FutureWarning: Passing literal html to 'read_html' is deprecated and will be removed in a future version. To read from a literal string, wrap it in a 'StringIO' object.\n",
      "  team = pd.read_html(str(team_table))[0]\n",
      "C:\\Users\\Wahyunan\\AppData\\Local\\Temp\\ipykernel_15184\\640507418.py:32: FutureWarning: Passing literal html to 'read_html' is deprecated and will be removed in a future version. To read from a literal string, wrap it in a 'StringIO' object.\n",
      "  team = pd.read_html(str(team_table))[0]\n",
      "C:\\Users\\Wahyunan\\AppData\\Local\\Temp\\ipykernel_15184\\640507418.py:18: FutureWarning: Passing literal html to 'read_html' is deprecated and will be removed in a future version. To read from a literal string, wrap it in a 'StringIO' object.\n",
      "  team = pd.read_html(str(team_table))[0]\n",
      "C:\\Users\\Wahyunan\\AppData\\Local\\Temp\\ipykernel_15184\\640507418.py:32: FutureWarning: Passing literal html to 'read_html' is deprecated and will be removed in a future version. To read from a literal string, wrap it in a 'StringIO' object.\n",
      "  team = pd.read_html(str(team_table))[0]\n"
     ]
    }
   ],
   "source": [
    "import pandas as pd\n",
    "import requests\n",
    "from bs4 import BeautifulSoup\n",
    "import time\n",
    "\n",
    "team_dfs = []\n",
    "team_stats_url = 'https://www.basketball-reference.com/leagues/NBA_{}_standings.html'\n",
    "\n",
    "for year in years:\n",
    "    url = team_stats_url.format(year)\n",
    "\n",
    "    data = requests.get(url)\n",
    "    soup = BeautifulSoup(data.text, 'html.parser')\n",
    "\n",
    "    # Process Eastern Conference\n",
    "    team_table = soup.find(id='divs_standings_E')\n",
    "    if team_table:\n",
    "        team = pd.read_html(str(team_table))[0]\n",
    "        team['year'] = year\n",
    "        team['team'] = team['Eastern Conference']\n",
    "        del team['Eastern Conference']\n",
    "\n",
    "        # Remove rows that represent divisions, not teams\n",
    "        team = team[~team['team'].str.contains('Division')]\n",
    "\n",
    "        team_dfs.append(team)\n",
    "    time.sleep(3)\n",
    "\n",
    "    # Process Western Conference\n",
    "    team_table = soup.find(id='divs_standings_W')\n",
    "    if team_table:\n",
    "        team = pd.read_html(str(team_table))[0]\n",
    "        team['year'] = year\n",
    "        team['team'] = team['Western Conference']\n",
    "        del team['Western Conference']\n",
    "\n",
    "        # Remove rows that represent divisions, not teams\n",
    "        team = team[~team['team'].str.contains('Division')]\n",
    "\n",
    "        team_dfs.append(team)\n",
    "    time.sleep(3)\n",
    "\n",
    "# Now team_dfs will contain data only for teams, without divisions.\n"
   ]
  },
  {
   "cell_type": "code",
   "execution_count": 4,
   "metadata": {},
   "outputs": [
    {
     "data": {
      "text/plain": [
       "4"
      ]
     },
     "execution_count": 4,
     "metadata": {},
     "output_type": "execute_result"
    }
   ],
   "source": [
    "len(team_dfs)"
   ]
  },
  {
   "cell_type": "code",
   "execution_count": 3,
   "metadata": {},
   "outputs": [],
   "source": [
    "all_teams = pd.concat(team_dfs)"
   ]
  },
  {
   "cell_type": "code",
   "execution_count": 5,
   "metadata": {},
   "outputs": [],
   "source": [
    "all_teams.to_csv('all_teams.csv')"
   ]
  }
 ],
 "metadata": {
  "kernelspec": {
   "display_name": "Python 3",
   "language": "python",
   "name": "python3"
  },
  "language_info": {
   "codemirror_mode": {
    "name": "ipython",
    "version": 3
   },
   "file_extension": ".py",
   "mimetype": "text/x-python",
   "name": "python",
   "nbconvert_exporter": "python",
   "pygments_lexer": "ipython3",
   "version": "3.12.6"
  }
 },
 "nbformat": 4,
 "nbformat_minor": 2
}
